{
 "cells": [
  {
   "cell_type": "code",
   "execution_count": null,
   "metadata": {
    "vscode": {
     "languageId": "cpp"
    }
   },
   "outputs": [],
   "source": [
    "#include <iostream>\n",
    "\n",
    "void insertionSort(int arr[], int n) {\n",
    "    for (int i = 1; i < n; i++) {\n",
    "        int sort = arr[i];\n",
    "        int j = i - 1;\n",
    "        while (j >= 0 && arr[j] > sort) {\n",
    "            arr[j + 1] = arr[j];\n",
    "            j--;\n",
    "        }\n",
    "        arr[j + 1] = sort;\n",
    "    }\n",
    "}\n",
    "\n",
    "int main() {\n",
    "    const int tam = 5;\n",
    "    int arr[tam] = {13, 23, 55, 84, 64};\n",
    "\n",
    "    for (int num : arr) {\n",
    "        std::cout << num << \" \";\n",
    "    }\n",
    "    std::cout << std::endl;\n",
    "\n",
    "    insertionSort(arr, tam);\n",
    "\n",
    "    for (int i = 0; i < tam; i++) {\n",
    "        std::cout << arr[i] << \" \";\n",
    "    }\n",
    "    std::cout << std::endl;\n",
    "\n",
    "    return 0;\n",
    "}"
   ]
  }
 ],
 "metadata": {
  "language_info": {
   "name": "python"
  },
  "orig_nbformat": 4
 },
 "nbformat": 4,
 "nbformat_minor": 2
}
