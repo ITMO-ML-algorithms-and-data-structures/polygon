{
 "cells": [
  {
   "cell_type": "code",
   "execution_count": null,
   "metadata": {
    "vscode": {
     "languageId": "cpp"
    }
   },
   "outputs": [],
   "source": [
    "#include <iostream>\n",
    "\n",
    "void insertionSort(int arr[], int n) {\n",
    "    for (int i = 1; i < n; i++) {\n",
    "        int sort = arr[i];\n",
    "        int j = i - 1;\n",
    "        while (j >= 0 && arr[j] > sort) {\n",
    "            arr[j + 1] = arr[j];\n",
    "            j--;\n",
    "        }\n",
    "        arr[j + 1] = sort;\n",
    "    }\n",
    "}\n",
    "\n",
    "int main() {\n",
    "    const int tam = 5;\n",
    "    int arr[tam] = {13, 23, 55, 84, 64};\n",
    "\n",
    "    for (int num : arr) {\n",
    "        std::cout << num << \" \";\n",
    "    }\n",
    "    std::cout << std::endl;\n",
    "\n",
    "    insertionSort(arr, tam);\n",
    "\n",
    "    for (int i = 0; i < tam; i++) {\n",
    "        std::cout << arr[i] << \" \";\n",
    "    }\n",
    "    std::cout << std::endl;\n",
    "\n",
    "    return 0;\n",
    "}"
   ]
  },
  {
   "cell_type": "code",
   "execution_count": null,
   "metadata": {
    "vscode": {
     "languageId": "cpp"
    }
   },
   "outputs": [],
   "source": [
    "#include <iostream>\n",
    "#include <unordered_map>\n",
    "#include <vector>\n",
    "#include <string>\n",
    "\n",
    "using namespace std;\n",
    "\n",
    "vector<int> labelEncoder(const vector<string>& arr) { \n",
    "    unordered_map<string, int> mapeo;  \n",
    "    vector<int> encodedArr;               \n",
    "    int label = 1;                        \n",
    "    \n",
    "    for (const auto& str : arr) { //evita copias inecesarias y recorre todo en arr\n",
    "        if (mapeo.find(str) == mapeo.end()) {//aca revisa si la cadena ya existe \n",
    "            mapeo[str] = label++;//si no existe le agregamos el numero siguiente\n",
    "        }\n",
    "        encodedArr.push_back(mapeo[str]);//independiente si ya ha sido creada le damos el valor antiguo\n",
    "    }\n",
    "    \n",
    "    return encodedArr;\n",
    "}\n",
    "\n",
    "int main() {\n",
    "\n",
    "    vector<string> arr = {\"Orange\", \"Red\", \"Green\", \"Orange\"};\n",
    "    \n",
    "    vector<int> result = labelEncoder(arr);//guardamos en un vector de enteros\n",
    "    \n",
    "    for (int num : result) {\n",
    "        cout << num << \" \";\n",
    "    }\n",
    "    cout << endl;\n",
    "    \n",
    "    return 0;\n",
    "}"
   ]
  }
 ],
 "metadata": {
  "language_info": {
   "name": "python"
  },
  "orig_nbformat": 4
 },
 "nbformat": 4,
 "nbformat_minor": 2
}
